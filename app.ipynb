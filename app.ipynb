{
 "cells": [
  {
   "cell_type": "code",
   "execution_count": null,
   "metadata": {},
   "outputs": [],
   "source": [
    "%pip install isodate"
   ]
  },
  {
   "cell_type": "code",
   "execution_count": null,
   "metadata": {},
   "outputs": [],
   "source": [
    "import isodate\n",
    "# Function to convert ISO 8601 duration to human-readable format\n",
    "def convert_iso_duration(iso_duration):\n",
    "    # Handle non-string values (e.g., None or NaN)\n",
    "    if not isinstance(iso_duration, str):\n",
    "        return \"unknown\"\n",
    "    \n",
    "    try:\n",
    "        # Parse the ISO 8601 duration string using isodate\n",
    "        duration = isodate.parse_duration(iso_duration)\n",
    "        \n",
    "        # Extract total seconds and break them into days, hours, minutes, seconds\n",
    "        total_seconds = int(duration.total_seconds())\n",
    "        days, remainder = divmod(total_seconds, 86400)  # 1 day = 86400 seconds\n",
    "        hours, remainder = divmod(remainder, 3600)  # 1 hour = 3600 seconds\n",
    "        minutes, seconds = divmod(remainder, 60)  # 1 minute = 60 seconds\n",
    "\n",
    "        # Build human-readable string\n",
    "        readable = []\n",
    "        if days > 0:\n",
    "            readable.append(f\"{days} day{'s' if days > 1 else ''}\")\n",
    "        if hours > 0:\n",
    "            readable.append(f\"{hours} hour{'s' if hours > 1 else ''}\")\n",
    "        if minutes > 0:\n",
    "            readable.append(f\"{minutes} minute{'s' if minutes > 1 else ''}\")\n",
    "        if seconds > 0:\n",
    "            readable.append(f\"{seconds} second{'s' if seconds > 1 else ''}\")\n",
    "\n",
    "        return \", \".join(readable)\n",
    "    except Exception as e:\n",
    "        # If there is an error (e.g., invalid format), return an error message\n",
    "        return \"unknown\"\n",
    "# Example usage\n",
    "iso_duration = \"PT24H\"  # 24 hours\n",
    "print(convert_iso_duration(None))  # Output: 24 hours"
   ]
  },
  {
   "cell_type": "code",
   "execution_count": null,
   "metadata": {},
   "outputs": [],
   "source": [
    "# Define a cleaning function\n",
    "def clean_ingredients(ingredient_str):\n",
    "    # Remove 'c (' and ')', and clean double quotes and spaces\n",
    "    ingredient_str = ingredient_str.replace('c(', '').replace(')', '')  # Remove 'c (' and ')'\n",
    "    ingredient_str = ingredient_str.replace('\"', '')  # Remove double quotes\n",
    "    return ingredient_str"
   ]
  },
  {
   "cell_type": "code",
   "execution_count": null,
   "metadata": {},
   "outputs": [],
   "source": [
    "#convert RecipeIngredientParts and RecipeIngredientQuantities to a list\n",
    "import ast\n",
    "\n",
    "def parse_list(r_string):\n",
    "    try:\n",
    "        if r_string == \"character(0)\":\n",
    "            return []  # Handle character(0) as an empty list\n",
    "        return ast.literal_eval(r_string.replace('c(', '[').replace(')', ']'))\n",
    "    except Exception:\n",
    "        return []  # Return None for invalid rows\n"
   ]
  },
  {
   "cell_type": "code",
   "execution_count": null,
   "metadata": {},
   "outputs": [],
   "source": [
    "from fractions import Fraction\n",
    "\n",
    "# Function to convert a string to a float, handling fractions like \"1/4\"\n",
    "def convert_to_float(value):\n",
    "    try:\n",
    "        # Try to parse the string as a fraction\n",
    "        return float(Fraction(value))\n",
    "    except ValueError:\n",
    "        # If it fails (e.g., not a fraction or float), return 0.0\n",
    "        return 0.0\n",
    "    \n",
    "# Convert Quantities from strings to floats (handling fractions and decimals)\n",
    "#data_sup['Quantities'] = data_sup['Quantities'].apply(\n",
    "#    lambda x: [convert_to_float(q) for q in x]  # Convert each string in the list\n",
    "#)"
   ]
  },
  {
   "cell_type": "markdown",
   "metadata": {},
   "source": [
    "1. Getting the Data"
   ]
  },
  {
   "cell_type": "code",
   "execution_count": null,
   "metadata": {},
   "outputs": [],
   "source": [
    "import pandas as pd\n",
    "import numpy as np\n",
    "import matplotlib.pyplot as plt\n",
    "import seaborn as sns\n",
    "\n",
    "pd.options.display.float_format = '{:.2f}'.format\n",
    "\n",
    "# Load dataset\n",
    "data = pd.read_csv('recipes.csv')\n",
    "print(\"Dataset Loaded Successfully\")\n"
   ]
  },
  {
   "cell_type": "markdown",
   "metadata": {},
   "source": [
    "2. Exploring the Data"
   ]
  },
  {
   "cell_type": "code",
   "execution_count": null,
   "metadata": {},
   "outputs": [],
   "source": [
    "# Overview of the dataset\n",
    "print(\"Dataset Information:\")\n",
    "data.info()"
   ]
  },
  {
   "cell_type": "code",
   "execution_count": null,
   "metadata": {},
   "outputs": [],
   "source": [
    "# Shape and statistical description\n",
    "print(\"\\nDataset Shape:\", data.shape)\n",
    "print(\"\\nStatistical Summary:\")\n",
    "print(data.describe(include='all'))"
   ]
  },
  {
   "cell_type": "code",
   "execution_count": null,
   "metadata": {},
   "outputs": [],
   "source": [
    "# Check for missing values\n",
    "missing_values = data.isnull().sum()\n",
    "missing_percentage = (missing_values / len(data)) * 100\n",
    "print(\"\\nMissing Values Count and Percentage:\")\n",
    "print(missing_percentage)"
   ]
  },
  {
   "cell_type": "code",
   "execution_count": null,
   "metadata": {},
   "outputs": [],
   "source": [
    "data.head(10)"
   ]
  },
  {
   "cell_type": "markdown",
   "metadata": {},
   "source": [
    "3. Data Cleaning and Preprocessing"
   ]
  },
  {
   "cell_type": "code",
   "execution_count": null,
   "metadata": {},
   "outputs": [],
   "source": [
    "# Feature extraction\n",
    "selected_columns = [\n",
    "    'RecipeId', 'Name', 'CookTime','RecipeServings','RecipeCategory','RecipeIngredientQuantities','RecipeIngredientParts', 'AggregatedRating','Calories', 'FatContent', 'SaturatedFatContent',\n",
    "    'CholesterolContent', 'SodiumContent', 'CarbohydrateContent','FiberContent', 'SugarContent', 'ProteinContent', 'RecipeInstructions'\n",
    "]\n",
    "data_extracted = data[selected_columns]\n",
    "print(\"\\nData Extracted Completed. Preview:\")\n",
    "data_extracted.shape"
   ]
  },
  {
   "cell_type": "code",
   "execution_count": null,
   "metadata": {},
   "outputs": [],
   "source": [
    "data_extracted.isnull().sum()"
   ]
  },
  {
   "cell_type": "code",
   "execution_count": null,
   "metadata": {},
   "outputs": [],
   "source": [
    "# Handling missing values\n",
    "data_cleaned = data_extracted.copy() #data_cleaned.dropna(inplace=True)\n",
    "data_cleaned.CookTime = data_cleaned.CookTime.apply(convert_iso_duration)\n",
    "data_cleaned.CookTime.head(20)"
   ]
  },
  {
   "cell_type": "code",
   "execution_count": null,
   "metadata": {},
   "outputs": [],
   "source": [
    "data_cleaned = data_cleaned.dropna(subset=[\"RecipeCategory\"])"
   ]
  },
  {
   "cell_type": "code",
   "execution_count": null,
   "metadata": {},
   "outputs": [],
   "source": [
    "data_cleaned = data_cleaned.dropna(subset=[\"RecipeIngredientQuantities\"])\n",
    "data_cleaned['RecipeIngredientParts'] = data_cleaned['RecipeIngredientParts'].apply(clean_ingredients)\n"
   ]
  },
  {
   "cell_type": "code",
   "execution_count": null,
   "metadata": {},
   "outputs": [],
   "source": [
    "data_cleaned[\"Description\"] = data_cleaned[\"Description\"].fillna(\"No Description\")"
   ]
  },
  {
   "cell_type": "code",
   "execution_count": null,
   "metadata": {},
   "outputs": [],
   "source": [
    "data_cleaned[\"AggregatedRating\"] = data_cleaned[\"AggregatedRating\"].fillna(data_cleaned[\"AggregatedRating\"].mean())"
   ]
  },
  {
   "cell_type": "code",
   "execution_count": null,
   "metadata": {},
   "outputs": [],
   "source": [
    "# Apply parsing safely\n",
    "data_cleaned[\"RecipeInstructions\"] = data_cleaned[\"RecipeInstructions\"].apply(parse_list)\n",
    "data_cleaned[\"RecipeIngredientQuantities\"] = data_cleaned[\"RecipeIngredientQuantities\"].apply(parse_list)\n"
   ]
  },
  {
   "cell_type": "code",
   "execution_count": null,
   "metadata": {},
   "outputs": [],
   "source": [
    "data_cleaned[\"RecipeServings\"] = pd.to_numeric(data_cleaned[\"RecipeServings\"], errors='coerce')"
   ]
  },
  {
   "cell_type": "code",
   "execution_count": null,
   "metadata": {},
   "outputs": [],
   "source": [
    "data_RecipeServings_nan = data_cleaned.loc[data_cleaned['RecipeServings'].isnull() == True]\n",
    "data_RecipeServings_nan.head()\n"
   ]
  },
  {
   "cell_type": "code",
   "execution_count": null,
   "metadata": {},
   "outputs": [],
   "source": [
    "# Nutritional maximum thresholds for a single meal (assuming 3 meals a day)\n",
    "max_thresholds_per_meal = {\n",
    "    'Calories': 2000 / 3,  # Daily caloric intake divided by 3 meals\n",
    "    'FatContent': 70 / 3,  # Fat content per meal\n",
    "    'SaturatedFatContent': 22 / 3,  # Saturated fat per meal\n",
    "    'CholesterolContent': 300 / 3,  # Cholesterol per meal\n",
    "    'SodiumContent': 2300 / 3,  # Sodium per meal\n",
    "    'CarbohydrateContent': 325 / 3,  # Carbohydrates per meal\n",
    "    'FiberContent': 25 / 3,  # Fiber per meal\n",
    "    'SugarContent': 50 / 3,  # Sugar per meal\n",
    "    'ProteinContent': 175 / 3  # Protein per meal\n",
    "}\n",
    "\n",
    "data_cleaned_copy = data_cleaned.copy()\n",
    "\n",
    "# Appliquer les filtres en fonction des seuils nutritionnels\n",
    "def clean_recipe(row):\n",
    "    for column, maximum in max_thresholds_per_meal.items():\n",
    "    \n",
    "        if column in row and row[column] >= maximum:\n",
    "            return None  # Si une valeur dépasse le seuil, on supprime cette ligne\n",
    "    # Si toutes les valeurs sont inférieures au seuil, on met 'RecipeServings' à 1\n",
    "    row['RecipeServings'] = 1\n",
    "    return row\n",
    "\n",
    "data_cleaned_copy[data_cleaned_copy['RecipeServings'].isnull()].apply(clean_recipe, axis=1)\n",
    "\n",
    "\n",
    "# Supprimer les lignes où 'clean_recipe' a renvoyé None (lignes à supprimer)\n",
    "data_cleaned_copy = data_cleaned_copy.dropna(subset=['RecipeServings'])\n",
    "\n",
    "\n",
    "# Afficher les premières lignes du DataFrame nettoyé\n",
    "data_cleaned_copy.head()\n"
   ]
  },
  {
   "cell_type": "code",
   "execution_count": null,
   "metadata": {},
   "outputs": [],
   "source": [
    "data_cleaned_copy.shape\n"
   ]
  },
  {
   "cell_type": "code",
   "execution_count": null,
   "metadata": {},
   "outputs": [],
   "source": [
    "data_cleaned_copy.isnull().sum()"
   ]
  },
  {
   "cell_type": "code",
   "execution_count": null,
   "metadata": {},
   "outputs": [],
   "source": [
    "# Afficher les premières lignes du DataFrame après division\n",
    "data_cleaned_copy.head()"
   ]
  },
  {
   "cell_type": "code",
   "execution_count": null,
   "metadata": {},
   "outputs": [],
   "source": [
    "print(data_cleaned_copy.shape)"
   ]
  },
  {
   "cell_type": "markdown",
   "metadata": {},
   "source": [
    "4. Filtering Nutritional Information for Recommendations"
   ]
  },
  {
   "cell_type": "code",
   "execution_count": null,
   "metadata": {},
   "outputs": [],
   "source": [
    "# Nutritional maximum thresholds for a single meal (assuming 3 meals a day)\n",
    "max_thresholds_per_meal = {\n",
    "    'Calories': 2000 / 3,  # Daily caloric intake divided by 3 meals\n",
    "    'FatContent': 70 / 3,  # Fat content per meal\n",
    "    'SaturatedFatContent': 22 / 3,  # Saturated fat per meal\n",
    "    'CholesterolContent': 300 / 3,  # Cholesterol per meal\n",
    "    'SodiumContent': 2300 / 3,  # Sodium per meal\n",
    "    'CarbohydrateContent': 325 / 3,  # Carbohydrates per meal\n",
    "    'FiberContent': 25 / 3,  # Fiber per meal\n",
    "    'SugarContent': 50 / 3,  # Sugar per meal\n",
    "    'ProteinContent': 175 / 3  # Protein per meal\n",
    "}\n",
    "# Create a copy of the original dataset to preserve the data_cleaned\n",
    "data_prepared = data_cleaned_copy.copy()\n",
    "\n",
    "# Initialize a new column for health status\n",
    "data_prepared['HealthStatus'] = 'Healthy'  # Assume healthy by default\n",
    "\n",
    "# Apply the filtering conditions based on the nutritional thresholds for a single meal\n",
    "for column, max_value in max_thresholds_per_meal.items():\n",
    "    if column in data_cleaned.columns:\n",
    "        # Mark recipes that exceed the threshold as 'Unhealthy'\n",
    "        data_prepared['HealthStatus'] = data_prepared.apply(\n",
    "            lambda row: 'Unhealthy' if row[column] > max_value else row['HealthStatus'],\n",
    "            axis=1\n",
    "        )\n",
    "\n",
    "# Display the filtered data with health status\n",
    "print(\"\\nData Filtered Based on Nutritional Information (per meal):\")\n",
    "print(data_prepared.describe())  # Descriptive statistics for the filtered data\n",
    "print(data_prepared.shape)  # The shape of the filtered data"
   ]
  },
  {
   "cell_type": "code",
   "execution_count": null,
   "metadata": {},
   "outputs": [],
   "source": [
    "# Example of viewing the health status column\n",
    "print(\"\\nHealth Status for Each Recipe (per meal):\")\n",
    "data_prepared.head()"
   ]
  },
  {
   "cell_type": "code",
   "execution_count": null,
   "metadata": {},
   "outputs": [],
   "source": [
    "data_prepared.head()"
   ]
  },
  {
   "cell_type": "markdown",
   "metadata": {},
   "source": [
    "Deployment"
   ]
  },
  {
   "cell_type": "code",
   "execution_count": null,
   "metadata": {},
   "outputs": [],
   "source": [
    "# Save data for deployment\n",
    "data_prepared.to_csv('cleaned_recipes_.csv', index=False)\n",
    "print(\"Data Saved for Deployment.\")"
   ]
  },
  {
   "cell_type": "code",
   "execution_count": null,
   "metadata": {},
   "outputs": [],
   "source": []
  },
  {
   "cell_type": "code",
   "execution_count": null,
   "metadata": {},
   "outputs": [],
   "source": []
  },
  {
   "cell_type": "code",
   "execution_count": null,
   "metadata": {},
   "outputs": [],
   "source": []
  },
  {
   "cell_type": "code",
   "execution_count": null,
   "metadata": {},
   "outputs": [],
   "source": []
  },
  {
   "cell_type": "code",
   "execution_count": null,
   "metadata": {},
   "outputs": [],
   "source": []
  },
  {
   "cell_type": "code",
   "execution_count": null,
   "metadata": {},
   "outputs": [],
   "source": []
  },
  {
   "cell_type": "code",
   "execution_count": null,
   "metadata": {},
   "outputs": [],
   "source": []
  },
  {
   "cell_type": "code",
   "execution_count": null,
   "metadata": {},
   "outputs": [],
   "source": []
  },
  {
   "cell_type": "code",
   "execution_count": null,
   "metadata": {},
   "outputs": [],
   "source": []
  },
  {
   "cell_type": "code",
   "execution_count": null,
   "metadata": {},
   "outputs": [],
   "source": []
  },
  {
   "cell_type": "code",
   "execution_count": null,
   "metadata": {},
   "outputs": [],
   "source": []
  },
  {
   "cell_type": "code",
   "execution_count": null,
   "metadata": {},
   "outputs": [],
   "source": []
  },
  {
   "cell_type": "code",
   "execution_count": null,
   "metadata": {},
   "outputs": [],
   "source": []
  },
  {
   "cell_type": "code",
   "execution_count": null,
   "metadata": {},
   "outputs": [],
   "source": []
  },
  {
   "cell_type": "code",
   "execution_count": null,
   "metadata": {},
   "outputs": [],
   "source": []
  },
  {
   "cell_type": "code",
   "execution_count": null,
   "metadata": {},
   "outputs": [],
   "source": []
  },
  {
   "cell_type": "code",
   "execution_count": null,
   "metadata": {},
   "outputs": [],
   "source": []
  },
  {
   "cell_type": "code",
   "execution_count": null,
   "metadata": {},
   "outputs": [],
   "source": []
  },
  {
   "cell_type": "code",
   "execution_count": null,
   "metadata": {},
   "outputs": [],
   "source": []
  },
  {
   "cell_type": "code",
   "execution_count": null,
   "metadata": {},
   "outputs": [],
   "source": [
    "from fractions import Fraction\n",
    "\n",
    "# Function to convert a string to a float, handling fractions like \"1/4\"\n",
    "def convert_to_float(value):\n",
    "    try:\n",
    "        # Try to parse the string as a fraction\n",
    "        return float(Fraction(value))\n",
    "    except ValueError:\n",
    "        # If it fails (e.g., not a fraction or float), return 0.0\n",
    "        return 0.0\n",
    "\n",
    "# Convert Quantities from strings to floats (handling fractions and decimals)\n",
    "data_sup['Quantities'] = data_sup['Quantities'].apply(\n",
    "    lambda x: [convert_to_float(q) for q in x]  # Convert each string in the list\n",
    ")\n"
   ]
  },
  {
   "cell_type": "code",
   "execution_count": null,
   "metadata": {},
   "outputs": [],
   "source": []
  },
  {
   "cell_type": "code",
   "execution_count": null,
   "metadata": {},
   "outputs": [],
   "source": []
  },
  {
   "cell_type": "code",
   "execution_count": null,
   "metadata": {},
   "outputs": [],
   "source": []
  },
  {
   "cell_type": "code",
   "execution_count": null,
   "metadata": {},
   "outputs": [],
   "source": []
  },
  {
   "cell_type": "code",
   "execution_count": null,
   "metadata": {},
   "outputs": [],
   "source": []
  },
  {
   "cell_type": "code",
   "execution_count": null,
   "metadata": {},
   "outputs": [],
   "source": []
  },
  {
   "cell_type": "code",
   "execution_count": null,
   "metadata": {},
   "outputs": [],
   "source": []
  },
  {
   "cell_type": "code",
   "execution_count": null,
   "metadata": {},
   "outputs": [],
   "source": []
  },
  {
   "cell_type": "code",
   "execution_count": null,
   "metadata": {},
   "outputs": [],
   "source": []
  },
  {
   "cell_type": "code",
   "execution_count": null,
   "metadata": {},
   "outputs": [],
   "source": []
  },
  {
   "cell_type": "code",
   "execution_count": null,
   "metadata": {},
   "outputs": [],
   "source": []
  },
  {
   "cell_type": "code",
   "execution_count": null,
   "metadata": {},
   "outputs": [],
   "source": []
  },
  {
   "cell_type": "code",
   "execution_count": null,
   "metadata": {},
   "outputs": [],
   "source": []
  },
  {
   "cell_type": "code",
   "execution_count": null,
   "metadata": {},
   "outputs": [],
   "source": []
  },
  {
   "cell_type": "code",
   "execution_count": null,
   "metadata": {},
   "outputs": [],
   "source": []
  },
  {
   "cell_type": "code",
   "execution_count": null,
   "metadata": {},
   "outputs": [],
   "source": []
  },
  {
   "cell_type": "code",
   "execution_count": null,
   "metadata": {},
   "outputs": [],
   "source": []
  },
  {
   "cell_type": "code",
   "execution_count": null,
   "metadata": {},
   "outputs": [],
   "source": [
    "data_sup['Quantities'].head(10)"
   ]
  },
  {
   "cell_type": "code",
   "execution_count": null,
   "metadata": {},
   "outputs": [],
   "source": [
    "# Fonction pour remplir les quantités manquantes\n",
    "def fill_missing_quantities(row):\n",
    "    ingredients = row['Ingredients']  # Liste des ingrédients (de type string)\n",
    "    quantities = row['Quantities']  # Liste des quantités (de type string)\n",
    "        \n",
    "    # Si le nombre d'ingrédients est supérieur au nombre de quantités, compléter avec 1\n",
    "    num_missing_quantities = len(ingredients) - len(quantities)\n",
    "    if num_missing_quantities > 0:\n",
    "        quantities.extend([1] * num_missing_quantities)  # Ajouter des '1' pour remplir les quantités manquantes\n",
    "    \n",
    "    return pd.Series([ingredients, quantities], index=['Ingredients', 'Quantities'])\n",
    "\n",
    "# Appliquer la fonction pour remplir les quantités manquantes\n",
    "data_sup[['Ingredients', 'Quantities']] = data_sup.apply(fill_missing_quantities, axis=1)\n"
   ]
  },
  {
   "cell_type": "code",
   "execution_count": null,
   "metadata": {},
   "outputs": [],
   "source": [
    "# Afficher les données après remplissage des quantités manquantes\n",
    "data_sup.head(10)"
   ]
  },
  {
   "cell_type": "code",
   "execution_count": null,
   "metadata": {},
   "outputs": [],
   "source": [
    "def get_user_details():\n",
    "    height = float(input(\"Enter your height (in cm): \"))\n",
    "    weight = float(input(\"Enter your weight (in kg): \"))\n",
    "    age = int(input(\"Enter your age: \"))\n",
    "    gender = input(\"Enter your gender (M/F): \").strip().upper()\n",
    "    activity_level = input(\"Enter your activity level (sedentary, lightly_active, moderately_active, very_active): \").strip().lower()\n",
    "    target_weight = float(input(\"Enter your target weight (in kg): \"))\n",
    "    \n",
    "    return height, weight, age, gender, activity_level, target_weight\n"
   ]
  },
  {
   "cell_type": "code",
   "execution_count": null,
   "metadata": {},
   "outputs": [],
   "source": [
    "def calculate_bmr(height, weight, age, gender):\n",
    "    if gender == \"M\":\n",
    "        bmr = 88.362 + (13.397 * weight) + (4.799 * height) - (5.677 * age)\n",
    "    else:\n",
    "        bmr = 447.593 + (9.247 * weight) + (3.098 * height) - (4.330 * age)\n",
    "    return bmr\n",
    "\n",
    "def get_activity_factor(activity_level):\n",
    "    activity_factors = {\n",
    "        \"sedentary\": 1.2,\n",
    "        \"lightly_active\": 1.375,\n",
    "        \"moderately_active\": 1.55,\n",
    "        \"very_active\": 1.725\n",
    "    }\n",
    "    return activity_factors.get(activity_level, 1.2)  # Default to sedentary if not specified\n",
    "\n",
    "def calculate_tdee(bmr, activity_factor):\n",
    "    return bmr * activity_factor\n"
   ]
  },
  {
   "cell_type": "code",
   "execution_count": null,
   "metadata": {},
   "outputs": [],
   "source": [
    "def calculate_target_calories(tdee, target_weight, current_weight):\n",
    "    # Calculate the difference in weight and adjust accordingly\n",
    "    if target_weight > current_weight:\n",
    "        target_calories = tdee + 500  # Surplus for weight gain\n",
    "    elif target_weight < current_weight:\n",
    "        target_calories = tdee - 500  # Deficit for weight loss\n",
    "    else:\n",
    "        target_calories = tdee  # Maintenance calories\n",
    "    return target_calories\n"
   ]
  },
  {
   "cell_type": "code",
   "execution_count": null,
   "metadata": {},
   "outputs": [],
   "source": []
  },
  {
   "cell_type": "code",
   "execution_count": null,
   "metadata": {},
   "outputs": [],
   "source": []
  },
  {
   "cell_type": "code",
   "execution_count": null,
   "metadata": {},
   "outputs": [],
   "source": []
  },
  {
   "cell_type": "code",
   "execution_count": null,
   "metadata": {},
   "outputs": [],
   "source": []
  },
  {
   "cell_type": "code",
   "execution_count": null,
   "metadata": {},
   "outputs": [],
   "source": []
  },
  {
   "cell_type": "code",
   "execution_count": null,
   "metadata": {},
   "outputs": [],
   "source": []
  },
  {
   "cell_type": "code",
   "execution_count": null,
   "metadata": {},
   "outputs": [],
   "source": []
  },
  {
   "cell_type": "code",
   "execution_count": null,
   "metadata": {},
   "outputs": [],
   "source": []
  },
  {
   "cell_type": "code",
   "execution_count": null,
   "metadata": {},
   "outputs": [],
   "source": []
  },
  {
   "cell_type": "code",
   "execution_count": null,
   "metadata": {},
   "outputs": [],
   "source": []
  },
  {
   "cell_type": "code",
   "execution_count": null,
   "metadata": {},
   "outputs": [],
   "source": []
  },
  {
   "cell_type": "code",
   "execution_count": null,
   "metadata": {},
   "outputs": [],
   "source": []
  },
  {
   "cell_type": "code",
   "execution_count": null,
   "metadata": {},
   "outputs": [],
   "source": []
  },
  {
   "cell_type": "code",
   "execution_count": null,
   "metadata": {},
   "outputs": [],
   "source": []
  },
  {
   "cell_type": "code",
   "execution_count": null,
   "metadata": {},
   "outputs": [],
   "source": []
  },
  {
   "cell_type": "code",
   "execution_count": null,
   "metadata": {},
   "outputs": [],
   "source": []
  },
  {
   "cell_type": "code",
   "execution_count": null,
   "metadata": {},
   "outputs": [],
   "source": []
  },
  {
   "cell_type": "code",
   "execution_count": null,
   "metadata": {},
   "outputs": [],
   "source": []
  },
  {
   "cell_type": "code",
   "execution_count": null,
   "metadata": {},
   "outputs": [],
   "source": []
  },
  {
   "cell_type": "code",
   "execution_count": null,
   "metadata": {},
   "outputs": [],
   "source": []
  },
  {
   "cell_type": "code",
   "execution_count": null,
   "metadata": {},
   "outputs": [],
   "source": [
    "import numpy as np\n",
    "from sklearn.preprocessing import MultiLabelBinarizer\n",
    "\n",
    "# Initialize MultiLabelBinarizer to handle one-hot encoding of ingredients\n",
    "mlb = MultiLabelBinarizer()\n",
    "\n",
    "# Apply one-hot encoding for ingredients\n",
    "ingredients_one_hot = mlb.fit_transform(data_sup['RecipeIngredientParts'])\n",
    "\n",
    "# Convert quantities to numpy array (list of quantities for each recipe)\n",
    "quantities_array = data_sup['Quantities'].apply(lambda x: np.array(x))\n",
    "\n",
    "# Find the maximum length of quantities (this will be the number of ingredients in the longest recipe)\n",
    "max_length = max([len(q) for q in quantities_array])\n",
    "\n",
    "# Pad the quantities_array to make all lists have the same length\n",
    "quantities_array_padded = np.array([np.pad(q, (0, max_length - len(q)), 'constant') for q in quantities_array])\n",
    "\n",
    "# Check that both arrays (ingredients_one_hot and quantities_array_padded) have compatible shapes\n",
    "print(f\"ingredients_one_hot shape: {ingredients_one_hot.shape}\")\n",
    "print(f\"quantities_array_padded shape: {quantities_array_padded.shape}\")\n",
    "\n",
    "# Combine the one-hot encoded ingredients and the quantities array\n",
    "X = np.hstack([ingredients_one_hot, quantities_array_padded])\n",
    "\n",
    "# Display the shape of the final feature matrix\n",
    "print(f\"Feature matrix shape: {X.shape}\")\n",
    "X"
   ]
  },
  {
   "cell_type": "code",
   "execution_count": null,
   "metadata": {},
   "outputs": [],
   "source": []
  },
  {
   "cell_type": "code",
   "execution_count": null,
   "metadata": {},
   "outputs": [],
   "source": []
  },
  {
   "cell_type": "code",
   "execution_count": null,
   "metadata": {},
   "outputs": [],
   "source": []
  },
  {
   "cell_type": "code",
   "execution_count": null,
   "metadata": {},
   "outputs": [],
   "source": [
    "\n",
    "\n",
    "\n",
    "\n",
    "\n",
    "\n",
    "\n",
    "\n",
    "\n",
    "\n",
    "\n",
    "\n",
    "\n",
    "\n",
    "\n",
    "\n",
    "\n",
    "\n",
    "\n",
    "\n",
    "\n",
    "\n",
    "\n",
    "\n",
    "\n",
    "\n",
    "\n",
    "\n",
    "\n",
    "\n",
    "\n",
    "\n",
    "\n",
    "\n",
    "\n",
    "\n",
    "\n",
    "\n",
    "\n",
    "\n",
    "\n",
    "\n",
    "\n",
    "\n",
    "\n",
    "\n",
    "\n",
    "\n",
    "\n",
    "\n",
    "\n",
    "\n",
    "\n",
    "\n",
    "\n",
    "\n",
    "\n",
    "\n",
    "\n",
    "\n",
    "\n",
    "\n",
    "\n"
   ]
  },
  {
   "cell_type": "code",
   "execution_count": null,
   "metadata": {},
   "outputs": [],
   "source": [
    "\n",
    "# Evaluate the model\n",
    "mae = mean_absolute_error(y_test, y_pred)\n",
    "mse = mean_squared_error(y_test, y_pred)\n",
    "r2 = r2_score(y_test, y_pred)\n",
    "\n",
    "print(f\"Mean Absolute Error: {mae:.4f}\")\n",
    "print(f\"Mean Squared Error: {mse:.4f}\")\n",
    "print(f\"R² Score: {r2:.4f}\")"
   ]
  }
 ],
 "metadata": {
  "kernelspec": {
   "display_name": "Python 3",
   "language": "python",
   "name": "python3"
  },
  "language_info": {
   "codemirror_mode": {
    "name": "ipython",
    "version": 3
   },
   "file_extension": ".py",
   "mimetype": "text/x-python",
   "name": "python",
   "nbconvert_exporter": "python",
   "pygments_lexer": "ipython3",
   "version": "3.12.3"
  }
 },
 "nbformat": 4,
 "nbformat_minor": 2
}
